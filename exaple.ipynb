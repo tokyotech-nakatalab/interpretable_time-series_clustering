{
 "cells": [
  {
   "cell_type": "code",
   "execution_count": 1,
   "metadata": {},
   "outputs": [],
   "source": [
    "import tree\n",
    "import numpy as np"
   ]
  },
  {
   "cell_type": "code",
   "execution_count": 2,
   "metadata": {},
   "outputs": [
    {
     "name": "stderr",
     "output_type": "stream",
     "text": [
      "100%|██████████| 2/2 [00:00<00:00, 51.19it/s]\n"
     ]
    },
    {
     "name": "stdout",
     "output_type": "stream",
     "text": [
      "0.04091833356333342\n",
      "current_score:0.01913171977972959\n"
     ]
    },
    {
     "name": "stderr",
     "output_type": "stream",
     "text": [
      "100%|██████████| 2/2 [00:00<00:00, 512.44it/s]\n"
     ]
    },
    {
     "name": "stdout",
     "output_type": "stream",
     "text": [
      "-inf\n"
     ]
    },
    {
     "name": "stderr",
     "output_type": "stream",
     "text": [
      "100%|██████████| 2/2 [00:00<00:00, 62.41it/s]\n"
     ]
    },
    {
     "name": "stdout",
     "output_type": "stream",
     "text": [
      "0.025121821115971422\n",
      "current_score:-0.015127766567915556\n"
     ]
    },
    {
     "name": "stderr",
     "output_type": "stream",
     "text": [
      "100%|██████████| 2/2 [00:00<00:00, 426.81it/s]\n"
     ]
    },
    {
     "name": "stdout",
     "output_type": "stream",
     "text": [
      "0.019549256836497185\n",
      "current_score:-0.030846537263195594\n"
     ]
    },
    {
     "name": "stderr",
     "output_type": "stream",
     "text": [
      "100%|██████████| 2/2 [00:00<00:00, 105.08it/s]\n"
     ]
    },
    {
     "name": "stdout",
     "output_type": "stream",
     "text": [
      "0.03721293119410084\n",
      "current_score:-0.03161474611531616\n"
     ]
    },
    {
     "name": "stderr",
     "output_type": "stream",
     "text": [
      "100%|██████████| 2/2 [00:00<00:00, 897.27it/s]\n"
     ]
    },
    {
     "name": "stdout",
     "output_type": "stream",
     "text": [
      "-inf\n"
     ]
    },
    {
     "name": "stderr",
     "output_type": "stream",
     "text": [
      "100%|██████████| 2/2 [00:00<00:00, 860.19it/s]\n"
     ]
    },
    {
     "name": "stdout",
     "output_type": "stream",
     "text": [
      "-inf\n"
     ]
    },
    {
     "name": "stderr",
     "output_type": "stream",
     "text": [
      "100%|██████████| 2/2 [00:00<00:00, 281.49it/s]\n"
     ]
    },
    {
     "name": "stdout",
     "output_type": "stream",
     "text": [
      "0.023519423399153937\n",
      "current_score:-0.0400846171755724\n"
     ]
    },
    {
     "name": "stderr",
     "output_type": "stream",
     "text": [
      "100%|██████████| 2/2 [00:00<00:00, 225.02it/s]\n"
     ]
    },
    {
     "name": "stdout",
     "output_type": "stream",
     "text": [
      "0.033729138995717535\n",
      "current_score:-0.04608478989296137\n"
     ]
    },
    {
     "name": "stderr",
     "output_type": "stream",
     "text": [
      "100%|██████████| 2/2 [00:00<00:00, 343.99it/s]\n"
     ]
    },
    {
     "name": "stdout",
     "output_type": "stream",
     "text": [
      "0.10752449526946246\n",
      "current_score:-0.05323268627331487\n"
     ]
    },
    {
     "name": "stderr",
     "output_type": "stream",
     "text": [
      "100%|██████████| 2/2 [00:00<00:00, 809.32it/s]\n"
     ]
    },
    {
     "name": "stdout",
     "output_type": "stream",
     "text": [
      "-inf\n"
     ]
    },
    {
     "name": "stderr",
     "output_type": "stream",
     "text": [
      "100%|██████████| 2/2 [00:00<00:00, 410.60it/s]\n"
     ]
    },
    {
     "name": "stdout",
     "output_type": "stream",
     "text": [
      "0.0224114369976174\n",
      "current_score:-0.056211464779297005\n"
     ]
    },
    {
     "name": "stderr",
     "output_type": "stream",
     "text": [
      "100%|██████████| 2/2 [00:00<00:00, 1194.11it/s]\n"
     ]
    },
    {
     "name": "stdout",
     "output_type": "stream",
     "text": [
      "-inf\n"
     ]
    },
    {
     "name": "stderr",
     "output_type": "stream",
     "text": [
      "100%|██████████| 2/2 [00:00<00:00, 622.85it/s]\n"
     ]
    },
    {
     "name": "stdout",
     "output_type": "stream",
     "text": [
      "-inf\n"
     ]
    },
    {
     "name": "stderr",
     "output_type": "stream",
     "text": [
      "100%|██████████| 2/2 [00:00<00:00, 898.81it/s]\n"
     ]
    },
    {
     "name": "stdout",
     "output_type": "stream",
     "text": [
      "-inf\n"
     ]
    },
    {
     "name": "stderr",
     "output_type": "stream",
     "text": [
      "100%|██████████| 2/2 [00:00<00:00, 1020.51it/s]\n"
     ]
    },
    {
     "name": "stdout",
     "output_type": "stream",
     "text": [
      "-inf\n"
     ]
    },
    {
     "name": "stderr",
     "output_type": "stream",
     "text": [
      "100%|██████████| 2/2 [00:00<00:00, 829.49it/s]"
     ]
    },
    {
     "name": "stdout",
     "output_type": "stream",
     "text": [
      "-inf\n",
      "Run the following code at https://dreampuf.github.io/GraphvizOnline/\n",
      "----------------------CODE----------------------\n",
      "digraph ClusteringTree {\n",
      "n_0 [label=\"x_1 <= 0.101,amount=100\"];\n",
      "n_1 [label=\"0,amount=10\"];\n",
      "n_2 [label=\"x_1 <= 0.336,amount=90\"];\n",
      "n_3 [label=\"x_1 <= 0.234,amount=23\"];\n",
      "n_4 [label=\"x_0 <= 0.429,amount=67\"];\n",
      "n_5 [label=\"1,amount=10\"];\n",
      "n_6 [label=\"2,amount=13\"];\n",
      "n_7 [label=\"x_0 <= 0.233,amount=32\"];\n",
      "n_8 [label=\"x_1 <= 0.891,amount=35\"];\n",
      "n_9 [label=\"x_0 <= 0.094,amount=20\"];\n",
      "n_10 [label=\"3,amount=12\"];\n",
      "n_11 [label=\"x_1 <= 0.532,amount=25\"];\n",
      "n_12 [label=\"4,amount=10\"];\n",
      "n_13 [label=\"5,amount=10\"];\n",
      "n_14 [label=\"6,amount=10\"];\n",
      "n_15 [label=\"7,amount=12\"];\n",
      "n_16 [label=\"8,amount=13\"];\n",
      "n_0 -> n_1 [label=\"True\"];\n",
      "n_0 -> n_2 [label=\"False\"];\n",
      "n_2 -> n_3 [label=\"True\"];\n",
      "n_2 -> n_4 [label=\"False\"];\n",
      "n_3 -> n_5 [label=\"True\"];\n",
      "n_3 -> n_6 [label=\"False\"];\n",
      "n_4 -> n_7 [label=\"True\"];\n",
      "n_4 -> n_8 [label=\"False\"];\n",
      "n_7 -> n_9 [label=\"True\"];\n",
      "n_7 -> n_10 [label=\"False\"];\n",
      "n_8 -> n_11 [label=\"True\"];\n",
      "n_8 -> n_12 [label=\"False\"];\n",
      "n_9 -> n_13 [label=\"True\"];\n",
      "n_9 -> n_14 [label=\"False\"];\n",
      "n_11 -> n_15 [label=\"True\"];\n",
      "n_11 -> n_16 [label=\"False\"];\n",
      "}\n"
     ]
    },
    {
     "name": "stderr",
     "output_type": "stream",
     "text": [
      "\n"
     ]
    }
   ],
   "source": [
    "tree1 = tree.DecisionTree()\n",
    "real_data = np.random.rand(100,10) #amount_item * time_point\n",
    "feature_data = np.random.rand(100,2) #amount_item * amount_feature\n",
    "tree1.fit(real_data, #時系列特徴量\n",
    "        feature_data, #分枝特徴量\n",
    "        greedy_score_thre=0, #分割を止める閾値\n",
    "        stop_amount = 10 #クラスタ内に少なくとも含まれるデータ数\n",
    "        # それ以外にも引数が載ってると思うけど動き的に信頼性がないから気にしないで\n",
    "        )\n",
    "tree1.plot()"
   ]
  },
  {
   "cell_type": "code",
   "execution_count": null,
   "metadata": {},
   "outputs": [],
   "source": []
  }
 ],
 "metadata": {
  "kernelspec": {
   "display_name": "env1",
   "language": "python",
   "name": "python3"
  },
  "language_info": {
   "codemirror_mode": {
    "name": "ipython",
    "version": 3
   },
   "file_extension": ".py",
   "mimetype": "text/x-python",
   "name": "python",
   "nbconvert_exporter": "python",
   "pygments_lexer": "ipython3",
   "version": "3.9.12"
  }
 },
 "nbformat": 4,
 "nbformat_minor": 2
}
